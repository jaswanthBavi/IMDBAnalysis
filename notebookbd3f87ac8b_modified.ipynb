{
 "cells": [
  {
   "cell_type": "code",
   "execution_count": null,
   "metadata": {
    "_cell_guid": "b1076dfc-b9ad-4769-8c92-a6c4dae69d19",
    "_uuid": "8f2839f25d086af736a60e9eeb907d3b93b6e0e5",
    "execution": {
     "iopub.execute_input": "2022-10-07T07:43:07.065433Z",
     "iopub.status.busy": "2022-10-07T07:43:07.065027Z",
     "iopub.status.idle": "2022-10-07T07:43:07.080238Z",
     "shell.execute_reply": "2022-10-07T07:43:07.079007Z",
     "shell.execute_reply.started": "2022-10-07T07:43:07.065401Z"
    }
   },
   "outputs": [],
   "source": [
    "# This Python 3 environment comes with many helpful analytics libraries installed\n",
    "# It is defined by the kaggle/python Docker image: https://github.com/kaggle/docker-python\n",
    "# For example, here's several helpful packages to load\n",
    "\n",
    "import numpy as np # linear algebra\n",
    "import pandas as pd # data processing, CSV file I/O (e.g. pd.read_csv)\n",
    "\n",
    "# Input data files are available in the read-only \"../input/\" directory\n",
    "# For example, running this (by clicking run or pressing Shift+Enter) will list all files under the input directory\n",
    "\n",
    "import os\n",
    "for dirname, _, filenames in os.walk('/kaggle/input'):\n",
    "    for filename in filenames:\n",
    "        print(os.path.join(dirname, filename))\n",
    "\n",
    "# You can write up to 20GB to the current directory (/kaggle/working/) that gets preserved as output when you create a version using \"Save & Run All\" \n",
    "# You can also write temporary files to /kaggle/temp/, but they won't be saved outside of the current session"
   ]
  },
  {
   "cell_type": "markdown",
   "metadata": {},
   "source": [
    "# Youtube Video Link : https://youtu.be/Asm2_qgBK48"
   ]
  },
  {
   "cell_type": "code",
   "execution_count": null,
   "metadata": {
    "execution": {
     "iopub.execute_input": "2022-10-07T07:43:08.280923Z",
     "iopub.status.busy": "2022-10-07T07:43:08.280139Z",
     "iopub.status.idle": "2022-10-07T07:43:08.285949Z",
     "shell.execute_reply": "2022-10-07T07:43:08.284696Z",
     "shell.execute_reply.started": "2022-10-07T07:43:08.280885Z"
    }
   },
   "outputs": [],
   "source": [
    "import warnings\n",
    "warnings.filterwarnings('ignore')"
   ]
  },
  {
   "cell_type": "code",
   "execution_count": null,
   "metadata": {
    "execution": {
     "iopub.execute_input": "2022-10-07T07:43:08.54596Z",
     "iopub.status.busy": "2022-10-07T07:43:08.545263Z",
     "iopub.status.idle": "2022-10-07T07:43:08.583629Z",
     "shell.execute_reply": "2022-10-07T07:43:08.582348Z",
     "shell.execute_reply.started": "2022-10-07T07:43:08.545924Z"
    }
   },
   "outputs": [],
   "source": [
    "data = pd.read_csv('/kaggle/input/imdb-data/IMDB-Movie-Data.csv')"
   ]
  },
  {
   "cell_type": "markdown",
   "metadata": {
    "execution": {
     "iopub.execute_input": "2022-10-07T05:28:53.867396Z",
     "iopub.status.busy": "2022-10-07T05:28:53.866112Z",
     "iopub.status.idle": "2022-10-07T05:28:53.897473Z",
     "shell.execute_reply": "2022-10-07T05:28:53.896329Z",
     "shell.execute_reply.started": "2022-10-07T05:28:53.867351Z"
    }
   },
   "source": [
    "# 1. Display Top 10 Rows of The Dataset"
   ]
  },
  {
   "cell_type": "code",
   "execution_count": null,
   "metadata": {
    "execution": {
     "iopub.execute_input": "2022-10-07T07:43:08.972091Z",
     "iopub.status.busy": "2022-10-07T07:43:08.97141Z",
     "iopub.status.idle": "2022-10-07T07:43:09.011251Z",
     "shell.execute_reply": "2022-10-07T07:43:09.009867Z",
     "shell.execute_reply.started": "2022-10-07T07:43:08.972053Z"
    }
   },
   "outputs": [],
   "source": [
    "data.head(10)"
   ]
  },
  {
   "cell_type": "markdown",
   "metadata": {},
   "source": [
    "# 2. Check Last 10 Rows of The Dataset"
   ]
  },
  {
   "cell_type": "code",
   "execution_count": null,
   "metadata": {
    "execution": {
     "iopub.execute_input": "2022-10-07T07:43:09.386594Z",
     "iopub.status.busy": "2022-10-07T07:43:09.386202Z",
     "iopub.status.idle": "2022-10-07T07:43:09.410216Z",
     "shell.execute_reply": "2022-10-07T07:43:09.409117Z",
     "shell.execute_reply.started": "2022-10-07T07:43:09.386565Z"
    }
   },
   "outputs": [],
   "source": [
    "data.tail(10)"
   ]
  },
  {
   "cell_type": "markdown",
   "metadata": {
    "execution": {
     "iopub.execute_input": "2022-10-07T05:32:37.22467Z",
     "iopub.status.busy": "2022-10-07T05:32:37.224157Z",
     "iopub.status.idle": "2022-10-07T05:32:37.230098Z",
     "shell.execute_reply": "2022-10-07T05:32:37.2287Z",
     "shell.execute_reply.started": "2022-10-07T05:32:37.224616Z"
    }
   },
   "source": [
    "# 3. Find Shape of Our Dataset (Number of Rows And Number of Columns)"
   ]
  },
  {
   "cell_type": "code",
   "execution_count": null,
   "metadata": {
    "execution": {
     "iopub.execute_input": "2022-10-07T07:43:09.773128Z",
     "iopub.status.busy": "2022-10-07T07:43:09.772209Z",
     "iopub.status.idle": "2022-10-07T07:43:09.780447Z",
     "shell.execute_reply": "2022-10-07T07:43:09.779039Z",
     "shell.execute_reply.started": "2022-10-07T07:43:09.773087Z"
    }
   },
   "outputs": [],
   "source": [
    "data.shape"
   ]
  },
  {
   "cell_type": "code",
   "execution_count": null,
   "metadata": {
    "execution": {
     "iopub.execute_input": "2022-10-07T07:43:09.965581Z",
     "iopub.status.busy": "2022-10-07T07:43:09.965106Z",
     "iopub.status.idle": "2022-10-07T07:43:09.972557Z",
     "shell.execute_reply": "2022-10-07T07:43:09.970959Z",
     "shell.execute_reply.started": "2022-10-07T07:43:09.965543Z"
    }
   },
   "outputs": [],
   "source": [
    "print('Number of Rows',data.shape[0])\n",
    "print('Number of Columns',data.shape[1])"
   ]
  },
  {
   "cell_type": "markdown",
   "metadata": {},
   "source": [
    "# 4. Getting Information About Our Dataset Like Total Number Rows, Total Number of Columns, Datatypes of Each Column And Memory Requirement"
   ]
  },
  {
   "cell_type": "code",
   "execution_count": null,
   "metadata": {
    "execution": {
     "iopub.execute_input": "2022-10-07T07:43:10.384175Z",
     "iopub.status.busy": "2022-10-07T07:43:10.383636Z",
     "iopub.status.idle": "2022-10-07T07:43:10.418753Z",
     "shell.execute_reply": "2022-10-07T07:43:10.416854Z",
     "shell.execute_reply.started": "2022-10-07T07:43:10.384137Z"
    }
   },
   "outputs": [],
   "source": [
    "data.info()"
   ]
  },
  {
   "cell_type": "markdown",
   "metadata": {},
   "source": [
    "# 5. Check Null Values In The Dataset"
   ]
  },
  {
   "cell_type": "code",
   "execution_count": null,
   "metadata": {
    "execution": {
     "iopub.execute_input": "2022-10-07T07:43:10.803582Z",
     "iopub.status.busy": "2022-10-07T07:43:10.802322Z",
     "iopub.status.idle": "2022-10-07T07:43:10.815534Z",
     "shell.execute_reply": "2022-10-07T07:43:10.814186Z",
     "shell.execute_reply.started": "2022-10-07T07:43:10.803536Z"
    }
   },
   "outputs": [],
   "source": [
    "data.isnull().sum()"
   ]
  },
  {
   "cell_type": "code",
   "execution_count": null,
   "metadata": {
    "execution": {
     "iopub.execute_input": "2022-10-07T07:43:10.984805Z",
     "iopub.status.busy": "2022-10-07T07:43:10.984354Z",
     "iopub.status.idle": "2022-10-07T07:43:12.195991Z",
     "shell.execute_reply": "2022-10-07T07:43:12.193509Z",
     "shell.execute_reply.started": "2022-10-07T07:43:10.984753Z"
    }
   },
   "outputs": [],
   "source": [
    "import matplotlib.pyplot as plt\n",
    "import seaborn as sns\n",
    "sns.heatmap(data.isnull())\n",
    "plt.show()"
   ]
  },
  {
   "cell_type": "markdown",
   "metadata": {},
   "source": [
    "# 6. Drop All The Missing Values"
   ]
  },
  {
   "cell_type": "code",
   "execution_count": null,
   "metadata": {
    "execution": {
     "iopub.execute_input": "2022-10-07T07:43:12.199306Z",
     "iopub.status.busy": "2022-10-07T07:43:12.19876Z",
     "iopub.status.idle": "2022-10-07T07:43:12.213065Z",
     "shell.execute_reply": "2022-10-07T07:43:12.211257Z",
     "shell.execute_reply.started": "2022-10-07T07:43:12.199255Z"
    }
   },
   "outputs": [],
   "source": [
    "data = data.dropna(axis=0)"
   ]
  },
  {
   "cell_type": "code",
   "execution_count": null,
   "metadata": {
    "execution": {
     "iopub.execute_input": "2022-10-07T07:43:12.215409Z",
     "iopub.status.busy": "2022-10-07T07:43:12.215002Z",
     "iopub.status.idle": "2022-10-07T07:43:12.689039Z",
     "shell.execute_reply": "2022-10-07T07:43:12.687569Z",
     "shell.execute_reply.started": "2022-10-07T07:43:12.215375Z"
    }
   },
   "outputs": [],
   "source": [
    "sns.heatmap(data.isnull())\n",
    "plt.show()"
   ]
  },
  {
   "cell_type": "markdown",
   "metadata": {},
   "source": [
    "# 7. Check For Duplicate Data"
   ]
  },
  {
   "cell_type": "code",
   "execution_count": null,
   "metadata": {
    "execution": {
     "iopub.execute_input": "2022-10-07T07:43:12.692968Z",
     "iopub.status.busy": "2022-10-07T07:43:12.692364Z",
     "iopub.status.idle": "2022-10-07T07:43:12.710813Z",
     "shell.execute_reply": "2022-10-07T07:43:12.709094Z",
     "shell.execute_reply.started": "2022-10-07T07:43:12.692908Z"
    }
   },
   "outputs": [],
   "source": [
    "dup_data=data.duplicated().any()\n",
    "print(\"Are there any duplicated values in data?\",dup_data)"
   ]
  },
  {
   "cell_type": "markdown",
   "metadata": {},
   "source": [
    "# 8. Get Overall Statistics About The DataFrame"
   ]
  },
  {
   "cell_type": "code",
   "execution_count": null,
   "metadata": {
    "execution": {
     "iopub.execute_input": "2022-10-07T07:43:12.713991Z",
     "iopub.status.busy": "2022-10-07T07:43:12.71343Z",
     "iopub.status.idle": "2022-10-07T07:43:12.759699Z",
     "shell.execute_reply": "2022-10-07T07:43:12.757815Z",
     "shell.execute_reply.started": "2022-10-07T07:43:12.713939Z"
    }
   },
   "outputs": [],
   "source": [
    "data.describe()"
   ]
  },
  {
   "cell_type": "markdown",
   "metadata": {},
   "source": [
    "# 9. Display Title of The Movie Having Runtime >= 180 Minutes"
   ]
  },
  {
   "cell_type": "code",
   "execution_count": null,
   "metadata": {
    "execution": {
     "iopub.execute_input": "2022-10-07T07:43:12.782515Z",
     "iopub.status.busy": "2022-10-07T07:43:12.782021Z",
     "iopub.status.idle": "2022-10-07T07:43:12.793056Z",
     "shell.execute_reply": "2022-10-07T07:43:12.791896Z",
     "shell.execute_reply.started": "2022-10-07T07:43:12.78248Z"
    }
   },
   "outputs": [],
   "source": [
    "data[data['Runtime (Minutes)']>=180]['Title']"
   ]
  },
  {
   "cell_type": "markdown",
   "metadata": {},
   "source": [
    "# 10. In Which Year There Was The Highest Voting?"
   ]
  },
  {
   "cell_type": "code",
   "execution_count": null,
   "metadata": {
    "execution": {
     "iopub.execute_input": "2022-10-07T07:43:13.155563Z",
     "iopub.status.busy": "2022-10-07T07:43:13.155086Z",
     "iopub.status.idle": "2022-10-07T07:43:13.689262Z",
     "shell.execute_reply": "2022-10-07T07:43:13.687505Z",
     "shell.execute_reply.started": "2022-10-07T07:43:13.155525Z"
    }
   },
   "outputs": [],
   "source": [
    "sns.barplot(x='Year',y='Votes',data=data)\n",
    "plt.title(\"Votes By Year\")\n",
    "plt.show()"
   ]
  },
  {
   "cell_type": "markdown",
   "metadata": {},
   "source": [
    "# 11. In Which Year There Was The Highest Revenue?"
   ]
  },
  {
   "cell_type": "code",
   "execution_count": null,
   "metadata": {
    "execution": {
     "iopub.execute_input": "2022-10-07T07:43:13.691856Z",
     "iopub.status.busy": "2022-10-07T07:43:13.691429Z",
     "iopub.status.idle": "2022-10-07T07:43:14.221061Z",
     "shell.execute_reply": "2022-10-07T07:43:14.219548Z",
     "shell.execute_reply.started": "2022-10-07T07:43:13.691823Z"
    }
   },
   "outputs": [],
   "source": [
    "sns.barplot(x='Year',y='Revenue (Millions)',data=data)\n",
    "plt.title(\"Revenue By Year\")\n",
    "plt.show()"
   ]
  },
  {
   "cell_type": "markdown",
   "metadata": {},
   "source": [
    "# 12. Find The Average Rating For Each Director"
   ]
  },
  {
   "cell_type": "code",
   "execution_count": null,
   "metadata": {
    "execution": {
     "iopub.execute_input": "2022-10-07T07:43:14.225926Z",
     "iopub.status.busy": "2022-10-07T07:43:14.225439Z",
     "iopub.status.idle": "2022-10-07T07:43:14.244843Z",
     "shell.execute_reply": "2022-10-07T07:43:14.243065Z",
     "shell.execute_reply.started": "2022-10-07T07:43:14.225888Z"
    }
   },
   "outputs": [],
   "source": [
    "data.groupby('Director')['Rating'].mean().sort_values(ascending=False)"
   ]
  },
  {
   "cell_type": "markdown",
   "metadata": {},
   "source": [
    "# 13. Display Top 10 Lengthy Movies Title"
   ]
  },
  {
   "cell_type": "code",
   "execution_count": null,
   "metadata": {
    "execution": {
     "iopub.execute_input": "2022-10-07T07:43:14.460271Z",
     "iopub.status.busy": "2022-10-07T07:43:14.459852Z",
     "iopub.status.idle": "2022-10-07T07:43:14.471158Z",
     "shell.execute_reply": "2022-10-07T07:43:14.469579Z",
     "shell.execute_reply.started": "2022-10-07T07:43:14.460237Z"
    }
   },
   "outputs": [],
   "source": [
    "le =data.nlargest(10,'Runtime (Minutes)')[['Title','Runtime (Minutes)']]. \\\n",
    "set_index('Title')"
   ]
  },
  {
   "cell_type": "code",
   "execution_count": null,
   "metadata": {
    "execution": {
     "iopub.execute_input": "2022-10-07T07:43:14.694855Z",
     "iopub.status.busy": "2022-10-07T07:43:14.694395Z",
     "iopub.status.idle": "2022-10-07T07:43:14.982481Z",
     "shell.execute_reply": "2022-10-07T07:43:14.981373Z",
     "shell.execute_reply.started": "2022-10-07T07:43:14.694809Z"
    }
   },
   "outputs": [],
   "source": [
    "sns.barplot(le['Runtime (Minutes)'],y=le.index)\n",
    "plt.title('Top 5 Lengtly Movies')\n",
    "plt.show()"
   ]
  },
  {
   "cell_type": "markdown",
   "metadata": {},
   "source": [
    "# 14. Display Number of Movies Per Year"
   ]
  },
  {
   "cell_type": "code",
   "execution_count": null,
   "metadata": {
    "execution": {
     "iopub.execute_input": "2022-10-07T07:43:15.147632Z",
     "iopub.status.busy": "2022-10-07T07:43:15.14703Z",
     "iopub.status.idle": "2022-10-07T07:43:15.445278Z",
     "shell.execute_reply": "2022-10-07T07:43:15.443895Z",
     "shell.execute_reply.started": "2022-10-07T07:43:15.147588Z"
    }
   },
   "outputs": [],
   "source": [
    "sns.countplot(x='Year',data=data)\n",
    "plt.title(\"Number of Movies Per Year\")"
   ]
  },
  {
   "cell_type": "markdown",
   "metadata": {},
   "source": [
    "# 15. Find Most Popular Movie Title (Higest Revenue)"
   ]
  },
  {
   "cell_type": "code",
   "execution_count": null,
   "metadata": {
    "execution": {
     "iopub.execute_input": "2022-10-07T07:43:15.593279Z",
     "iopub.status.busy": "2022-10-07T07:43:15.592804Z",
     "iopub.status.idle": "2022-10-07T07:43:15.604182Z",
     "shell.execute_reply": "2022-10-07T07:43:15.602328Z",
     "shell.execute_reply.started": "2022-10-07T07:43:15.593242Z"
    }
   },
   "outputs": [],
   "source": [
    "data.columns"
   ]
  },
  {
   "cell_type": "code",
   "execution_count": null,
   "metadata": {
    "execution": {
     "iopub.execute_input": "2022-10-07T07:43:54.144174Z",
     "iopub.status.busy": "2022-10-07T07:43:54.142574Z",
     "iopub.status.idle": "2022-10-07T07:43:54.15589Z",
     "shell.execute_reply": "2022-10-07T07:43:54.154567Z",
     "shell.execute_reply.started": "2022-10-07T07:43:54.144118Z"
    }
   },
   "outputs": [],
   "source": [
    "data[data['Revenue (Millions)'].max() == data['Revenue (Millions)']]['Title']"
   ]
  },
  {
   "cell_type": "markdown",
   "metadata": {},
   "source": [
    "# 16. Display Top 10 Highest Rated Movie Titles And its Directors"
   ]
  },
  {
   "cell_type": "code",
   "execution_count": null,
   "metadata": {
    "execution": {
     "iopub.execute_input": "2022-10-07T07:44:20.75652Z",
     "iopub.status.busy": "2022-10-07T07:44:20.756029Z",
     "iopub.status.idle": "2022-10-07T07:44:20.769115Z",
     "shell.execute_reply": "2022-10-07T07:44:20.767107Z",
     "shell.execute_reply.started": "2022-10-07T07:44:20.756482Z"
    }
   },
   "outputs": [],
   "source": [
    "top_10=data.nlargest(10,'Rating')[['Title','Rating','Director']].set_index('Title')"
   ]
  },
  {
   "cell_type": "code",
   "execution_count": null,
   "metadata": {
    "execution": {
     "iopub.execute_input": "2022-10-07T07:44:24.992403Z",
     "iopub.status.busy": "2022-10-07T07:44:24.991907Z",
     "iopub.status.idle": "2022-10-07T07:44:25.006332Z",
     "shell.execute_reply": "2022-10-07T07:44:25.005072Z",
     "shell.execute_reply.started": "2022-10-07T07:44:24.992363Z"
    }
   },
   "outputs": [],
   "source": [
    "top_10"
   ]
  },
  {
   "cell_type": "code",
   "execution_count": null,
   "metadata": {
    "execution": {
     "iopub.execute_input": "2022-10-07T07:47:29.485961Z",
     "iopub.status.busy": "2022-10-07T07:47:29.485389Z",
     "iopub.status.idle": "2022-10-07T07:47:29.770291Z",
     "shell.execute_reply": "2022-10-07T07:47:29.768998Z",
     "shell.execute_reply.started": "2022-10-07T07:47:29.485921Z"
    }
   },
   "outputs": [],
   "source": [
    "sns.barplot(top_10['Rating'],top_10.index)\n",
    "plt.title(\"Display Top 10 Highest Rated Movie Titles\")"
   ]
  },
  {
   "cell_type": "markdown",
   "metadata": {},
   "source": [
    "# 17. Display Top 10 Highest Revenue Movie Titles"
   ]
  },
  {
   "cell_type": "code",
   "execution_count": null,
   "metadata": {
    "execution": {
     "iopub.execute_input": "2022-10-07T07:47:58.466846Z",
     "iopub.status.busy": "2022-10-07T07:47:58.466404Z",
     "iopub.status.idle": "2022-10-07T07:47:58.475546Z",
     "shell.execute_reply": "2022-10-07T07:47:58.47355Z",
     "shell.execute_reply.started": "2022-10-07T07:47:58.466813Z"
    }
   },
   "outputs": [],
   "source": [
    "data.columns"
   ]
  },
  {
   "cell_type": "code",
   "execution_count": null,
   "metadata": {
    "execution": {
     "iopub.execute_input": "2022-10-07T07:48:04.579617Z",
     "iopub.status.busy": "2022-10-07T07:48:04.579088Z",
     "iopub.status.idle": "2022-10-07T07:48:04.6059Z",
     "shell.execute_reply": "2022-10-07T07:48:04.604344Z",
     "shell.execute_reply.started": "2022-10-07T07:48:04.579576Z"
    }
   },
   "outputs": [],
   "source": [
    "data.sort_values(by='Revenue (Millions)',ascending=False).head(10)"
   ]
  },
  {
   "cell_type": "code",
   "execution_count": null,
   "metadata": {
    "execution": {
     "iopub.execute_input": "2022-10-07T07:48:15.758462Z",
     "iopub.status.busy": "2022-10-07T07:48:15.758015Z",
     "iopub.status.idle": "2022-10-07T07:48:15.771041Z",
     "shell.execute_reply": "2022-10-07T07:48:15.769383Z",
     "shell.execute_reply.started": "2022-10-07T07:48:15.758428Z"
    }
   },
   "outputs": [],
   "source": [
    "top_10 = data.nlargest(10,'Revenue (Millions)')[['Title','Director','Revenue (Millions)']].set_index('Title')"
   ]
  },
  {
   "cell_type": "code",
   "execution_count": null,
   "metadata": {
    "execution": {
     "iopub.execute_input": "2022-10-07T07:48:21.948665Z",
     "iopub.status.busy": "2022-10-07T07:48:21.948173Z",
     "iopub.status.idle": "2022-10-07T07:48:22.215979Z",
     "shell.execute_reply": "2022-10-07T07:48:22.214341Z",
     "shell.execute_reply.started": "2022-10-07T07:48:21.948629Z"
    }
   },
   "outputs": [],
   "source": [
    "sns.barplot(top_10['Revenue (Millions)'],top_10.index)\n",
    "plt.title(\"Display Top 10 Highest Revenue Movie Titles\")\n",
    "plt.show()"
   ]
  },
  {
   "cell_type": "markdown",
   "metadata": {},
   "source": [
    "# 18.  Find Average Rating of Movies Year-wise"
   ]
  },
  {
   "cell_type": "code",
   "execution_count": null,
   "metadata": {
    "execution": {
     "iopub.execute_input": "2022-10-07T07:50:24.985212Z",
     "iopub.status.busy": "2022-10-07T07:50:24.983586Z",
     "iopub.status.idle": "2022-10-07T07:50:24.994743Z",
     "shell.execute_reply": "2022-10-07T07:50:24.993243Z",
     "shell.execute_reply.started": "2022-10-07T07:50:24.985163Z"
    }
   },
   "outputs": [],
   "source": [
    "data.columns"
   ]
  },
  {
   "cell_type": "code",
   "execution_count": null,
   "metadata": {
    "execution": {
     "iopub.execute_input": "2022-10-07T07:50:34.650312Z",
     "iopub.status.busy": "2022-10-07T07:50:34.649936Z",
     "iopub.status.idle": "2022-10-07T07:50:34.666949Z",
     "shell.execute_reply": "2022-10-07T07:50:34.665469Z",
     "shell.execute_reply.started": "2022-10-07T07:50:34.650283Z"
    }
   },
   "outputs": [],
   "source": [
    "data1=data.groupby('Year')['Year','Rating'].mean().\\\n",
    "sort_values(by='Rating',ascending=False).set_index('Year')"
   ]
  },
  {
   "cell_type": "code",
   "execution_count": null,
   "metadata": {
    "execution": {
     "iopub.execute_input": "2022-10-07T07:50:42.206518Z",
     "iopub.status.busy": "2022-10-07T07:50:42.206022Z",
     "iopub.status.idle": "2022-10-07T07:50:42.221141Z",
     "shell.execute_reply": "2022-10-07T07:50:42.219454Z",
     "shell.execute_reply.started": "2022-10-07T07:50:42.206476Z"
    }
   },
   "outputs": [],
   "source": [
    "data1"
   ]
  },
  {
   "cell_type": "code",
   "execution_count": null,
   "metadata": {
    "execution": {
     "iopub.execute_input": "2022-10-07T07:56:13.053935Z",
     "iopub.status.busy": "2022-10-07T07:56:13.053386Z",
     "iopub.status.idle": "2022-10-07T07:56:13.332583Z",
     "shell.execute_reply": "2022-10-07T07:56:13.33081Z",
     "shell.execute_reply.started": "2022-10-07T07:56:13.053892Z"
    }
   },
   "outputs": [],
   "source": [
    "plt.figure(figsize=(10,5))\n",
    "sns.barplot(data1.index,data1['Rating'])\n",
    "plt.show()"
   ]
  },
  {
   "cell_type": "markdown",
   "metadata": {},
   "source": [
    "# 19. Does Rating Affect The Revenue?"
   ]
  },
  {
   "cell_type": "code",
   "execution_count": null,
   "metadata": {
    "execution": {
     "iopub.execute_input": "2022-10-07T08:02:54.774832Z",
     "iopub.status.busy": "2022-10-07T08:02:54.773564Z",
     "iopub.status.idle": "2022-10-07T08:02:54.990111Z",
     "shell.execute_reply": "2022-10-07T08:02:54.988664Z",
     "shell.execute_reply.started": "2022-10-07T08:02:54.774761Z"
    }
   },
   "outputs": [],
   "source": [
    "sns.scatterplot(x='Rating',y='Revenue (Millions)',data=data)"
   ]
  },
  {
   "cell_type": "markdown",
   "metadata": {
    "execution": {
     "iopub.execute_input": "2022-10-07T08:03:20.504935Z",
     "iopub.status.busy": "2022-10-07T08:03:20.504347Z",
     "iopub.status.idle": "2022-10-07T08:03:20.562599Z",
     "shell.execute_reply": "2022-10-07T08:03:20.560512Z",
     "shell.execute_reply.started": "2022-10-07T08:03:20.504898Z"
    }
   },
   "source": [
    "# Answer : Yes"
   ]
  },
  {
   "cell_type": "markdown",
   "metadata": {},
   "source": [
    "# 20. Classify Movies Based on Ratings [Good,Better and Best]"
   ]
  },
  {
   "cell_type": "code",
   "execution_count": null,
   "metadata": {
    "execution": {
     "iopub.execute_input": "2022-10-07T08:04:15.560182Z",
     "iopub.status.busy": "2022-10-07T08:04:15.559477Z",
     "iopub.status.idle": "2022-10-07T08:04:15.570724Z",
     "shell.execute_reply": "2022-10-07T08:04:15.56931Z",
     "shell.execute_reply.started": "2022-10-07T08:04:15.560122Z"
    }
   },
   "outputs": [],
   "source": [
    "data.columns"
   ]
  },
  {
   "cell_type": "code",
   "execution_count": null,
   "metadata": {
    "execution": {
     "iopub.execute_input": "2022-10-07T08:04:40.535833Z",
     "iopub.status.busy": "2022-10-07T08:04:40.534622Z",
     "iopub.status.idle": "2022-10-07T08:04:40.542749Z",
     "shell.execute_reply": "2022-10-07T08:04:40.541212Z",
     "shell.execute_reply.started": "2022-10-07T08:04:40.535761Z"
    }
   },
   "outputs": [],
   "source": [
    "def rating(rating):\n",
    "    if rating>=7.0:\n",
    "        return 'Excellent'\n",
    "    elif rating>=6.0:\n",
    "        return 'Good'\n",
    "    else:\n",
    "        return 'Average'"
   ]
  },
  {
   "cell_type": "code",
   "execution_count": null,
   "metadata": {
    "execution": {
     "iopub.execute_input": "2022-10-07T08:04:46.527732Z",
     "iopub.status.busy": "2022-10-07T08:04:46.527082Z",
     "iopub.status.idle": "2022-10-07T08:04:46.535542Z",
     "shell.execute_reply": "2022-10-07T08:04:46.533924Z",
     "shell.execute_reply.started": "2022-10-07T08:04:46.527694Z"
    }
   },
   "outputs": [],
   "source": [
    "data['rating_cat']=data['Rating'].apply(rating)"
   ]
  },
  {
   "cell_type": "code",
   "execution_count": null,
   "metadata": {
    "execution": {
     "iopub.execute_input": "2022-10-07T08:04:52.62047Z",
     "iopub.status.busy": "2022-10-07T08:04:52.619701Z",
     "iopub.status.idle": "2022-10-07T08:04:52.643487Z",
     "shell.execute_reply": "2022-10-07T08:04:52.642461Z",
     "shell.execute_reply.started": "2022-10-07T08:04:52.620423Z"
    }
   },
   "outputs": [],
   "source": [
    "data.head(1)"
   ]
  },
  {
   "cell_type": "markdown",
   "metadata": {},
   "source": [
    "# 21. Count Number of Action Movies"
   ]
  },
  {
   "cell_type": "code",
   "execution_count": null,
   "metadata": {
    "execution": {
     "iopub.execute_input": "2022-10-07T08:05:27.982431Z",
     "iopub.status.busy": "2022-10-07T08:05:27.981906Z",
     "iopub.status.idle": "2022-10-07T08:05:27.989954Z",
     "shell.execute_reply": "2022-10-07T08:05:27.988725Z",
     "shell.execute_reply.started": "2022-10-07T08:05:27.98239Z"
    }
   },
   "outputs": [],
   "source": [
    "list1=[]\n",
    "for value in data['Genre']:\n",
    "    list1.append(value.split(','))"
   ]
  },
  {
   "cell_type": "code",
   "execution_count": null,
   "metadata": {
    "execution": {
     "iopub.execute_input": "2022-10-07T08:05:33.84164Z",
     "iopub.status.busy": "2022-10-07T08:05:33.841197Z",
     "iopub.status.idle": "2022-10-07T08:05:33.849647Z",
     "shell.execute_reply": "2022-10-07T08:05:33.848249Z",
     "shell.execute_reply.started": "2022-10-07T08:05:33.841606Z"
    }
   },
   "outputs": [],
   "source": [
    "data['temp']=list1"
   ]
  },
  {
   "cell_type": "code",
   "execution_count": null,
   "metadata": {
    "execution": {
     "iopub.execute_input": "2022-10-07T08:05:41.699981Z",
     "iopub.status.busy": "2022-10-07T08:05:41.69947Z",
     "iopub.status.idle": "2022-10-07T08:05:59.811213Z",
     "shell.execute_reply": "2022-10-07T08:05:59.810135Z",
     "shell.execute_reply.started": "2022-10-07T08:05:41.699943Z"
    }
   },
   "outputs": [],
   "source": [
    "genre=input(\"Enter Genre you want to count : \").title()\n",
    "count=0\n",
    "for value in data['temp']:\n",
    "    if genre in value:\n",
    "        count=count+1\n",
    "print(\"Total Count is\",count)"
   ]
  },
  {
   "cell_type": "markdown",
   "metadata": {},
   "source": [
    "# OR"
   ]
  },
  {
   "cell_type": "code",
   "execution_count": null,
   "metadata": {
    "execution": {
     "iopub.execute_input": "2022-10-07T08:06:23.987806Z",
     "iopub.status.busy": "2022-10-07T08:06:23.98736Z",
     "iopub.status.idle": "2022-10-07T08:06:24.000377Z",
     "shell.execute_reply": "2022-10-07T08:06:23.999005Z",
     "shell.execute_reply.started": "2022-10-07T08:06:23.987745Z"
    }
   },
   "outputs": [],
   "source": [
    "len(data[data['Genre'].str.contains('action',case=False)])"
   ]
  },
  {
   "cell_type": "code",
   "execution_count": null,
   "metadata": {},
   "outputs": [],
   "source": []
  },
  {
   "cell_type": "code",
   "execution_count": null,
   "id": "bfa1174f",
   "metadata": {},
   "outputs": [],
   "source": [
    "\n",
    "# Top 10 Rated Comedy Movies\n",
    "comedy_movies = data[data['Genre'].str.contains('Comedy', case=False, na=False)]\n",
    "top_10_comedy = comedy_movies.sort_values(by='Rating', ascending=False).head(10)\n",
    "print(\"Top 10 Rated Movies in Comedy Genre:\")\n",
    "print(top_10_comedy[['Title', 'Genre', 'Rating']])\n",
    "\n",
    "# Top 5 Rated Movies Overall\n",
    "top_5_overall = data.sort_values(by='Rating', ascending=False).head(5)\n",
    "print(\"\\nTop 5 Rated Movies Overall:\")\n",
    "print(top_5_overall[['Title', 'Genre', 'Rating']])\n"
   ]
  }
 ],
 "metadata": {
  "kaggle": {
   "accelerator": "none",
   "dataSources": [
    {
     "datasetId": 1474,
     "sourceId": 2639,
     "sourceType": "datasetVersion"
    }
   ],
   "dockerImageVersionId": 30260,
   "isGpuEnabled": false,
   "isInternetEnabled": false,
   "language": "python",
   "sourceType": "notebook"
  },
  "kernelspec": {
   "display_name": "Python 3",
   "language": "python",
   "name": "python3"
  },
  "language_info": {
   "codemirror_mode": {
    "name": "ipython",
    "version": 3
   },
   "file_extension": ".py",
   "mimetype": "text/x-python",
   "name": "python",
   "nbconvert_exporter": "python",
   "pygments_lexer": "ipython3",
   "version": "3.6.4"
  }
 },
 "nbformat": 4,
 "nbformat_minor": 4
}
